{
  "nbformat": 4,
  "nbformat_minor": 0,
  "metadata": {
    "colab": {
      "name": "DataScienceLearningNotebook.ipynb",
      "provenance": [],
      "collapsed_sections": [],
      "toc_visible": true,
      "authorship_tag": "ABX9TyPD1zxqxtNbLpfeTmGqLs2g",
      "include_colab_link": true
    },
    "kernelspec": {
      "name": "python3",
      "display_name": "Python 3"
    }
  },
  "cells": [
    {
      "cell_type": "markdown",
      "metadata": {
        "id": "view-in-github",
        "colab_type": "text"
      },
      "source": [
        "<a href=\"https://colab.research.google.com/github/KevinYuen/PythonDataScienceLearning/blob/main/DataScienceLearningNotebook.ipynb\" target=\"_parent\"><img src=\"https://colab.research.google.com/assets/colab-badge.svg\" alt=\"Open In Colab\"/></a>"
      ]
    },
    {
      "cell_type": "markdown",
      "metadata": {
        "id": "fH_eM8sbd5go"
      },
      "source": [
        "## Basic Numpy Arrays"
      ]
    },
    {
      "cell_type": "markdown",
      "metadata": {
        "id": "0eY-FEQgMto-"
      },
      "source": [
        "![avatar](https://user-images.githubusercontent.com/7065401/52071927-c1cd7100-2562-11e9-908a-dde91ba14e59.png)"
      ]
    },
    {
      "cell_type": "code",
      "metadata": {
        "id": "6IhjbnMWd4sg",
        "outputId": "3436fe1a-0cf0-4c6f-c97f-8c6115bd69e9",
        "colab": {
          "base_uri": "https://localhost:8080/",
          "height": 153
        }
      },
      "source": [
        "import sys\n",
        "import numpy as np\n",
        "\n",
        "a = np.array([1,2,3,4])\n",
        "print(a.dtype)\n",
        "\n",
        "a = np.array([1,2,3,4], dtype=np.int8)\n",
        "print(a.dtype)\n",
        "\n",
        "A = np.array([\n",
        "              [1,2,3],\n",
        "              [4,5,6],\n",
        "              [7,8,9]\n",
        "], dtype=np.int8)\n",
        "\n",
        "print(A)\n",
        "print(A[:, :2])\n"
      ],
      "execution_count": null,
      "outputs": [
        {
          "output_type": "stream",
          "text": [
            "int64\n",
            "int8\n",
            "[[1 2 3]\n",
            " [4 5 6]\n",
            " [7 8 9]]\n",
            "[[1 2]\n",
            " [4 5]\n",
            " [7 8]]\n"
          ],
          "name": "stdout"
        }
      ]
    },
    {
      "cell_type": "markdown",
      "metadata": {
        "id": "quTBlhPTuozQ"
      },
      "source": [
        "# Instruction of Panda\n"
      ]
    },
    {
      "cell_type": "markdown",
      "metadata": {
        "id": "QLI21R4wMfaF"
      },
      "source": [
        "![avatar](https://user-images.githubusercontent.com/7065401/52071927-c1cd7100-2562-11e9-908a-dde91ba14e59.png)"
      ]
    },
    {
      "cell_type": "code",
      "metadata": {
        "id": "uYYnglSuu1Ik",
        "outputId": "44ab149f-68ea-4a98-a5e0-59dfac053162",
        "colab": {
          "base_uri": "https://localhost:8080/",
          "height": 153
        }
      },
      "source": [
        "import pandas as pd\n",
        "import numpy as np\n",
        "\n",
        "g7_pop = pd.Series([35.467, 63.951, 80.940, 60.655, 127.061, 64.511, 318.523])\n",
        "g7_pop.name = \"G7 population in millions\"\n",
        "g7_pop"
      ],
      "execution_count": 14,
      "outputs": [
        {
          "output_type": "execute_result",
          "data": {
            "text/plain": [
              "0     35.467\n",
              "1     63.951\n",
              "2     80.940\n",
              "3     60.655\n",
              "4    127.061\n",
              "5     64.511\n",
              "6    318.523\n",
              "Name: G7 population in millions, dtype: float64"
            ]
          },
          "metadata": {
            "tags": []
          },
          "execution_count": 14
        }
      ]
    },
    {
      "cell_type": "code",
      "metadata": {
        "id": "VS_GRB7tx5UV",
        "outputId": "b65df9bd-f276-42d0-fa03-2eb8a366dcda",
        "colab": {
          "base_uri": "https://localhost:8080/",
          "height": 34
        }
      },
      "source": [
        "g7_pop.dtype"
      ],
      "execution_count": 10,
      "outputs": [
        {
          "output_type": "execute_result",
          "data": {
            "text/plain": [
              "dtype('float64')"
            ]
          },
          "metadata": {
            "tags": []
          },
          "execution_count": 10
        }
      ]
    },
    {
      "cell_type": "code",
      "metadata": {
        "id": "e-pDUUs_yE0o",
        "outputId": "1e1c380c-9b3e-4441-da38-e864c1cf9b69",
        "colab": {
          "base_uri": "https://localhost:8080/",
          "height": 35
        }
      },
      "source": [
        "g7_pop.name"
      ],
      "execution_count": 11,
      "outputs": [
        {
          "output_type": "execute_result",
          "data": {
            "application/vnd.google.colaboratory.intrinsic+json": {
              "type": "string"
            },
            "text/plain": [
              "'G7 population in millions'"
            ]
          },
          "metadata": {
            "tags": []
          },
          "execution_count": 11
        }
      ]
    },
    {
      "cell_type": "code",
      "metadata": {
        "id": "WxCdXQaLyGLX",
        "outputId": "a2d4ca53-81b6-4046-fcca-5d6309310d3c",
        "colab": {
          "base_uri": "https://localhost:8080/",
          "height": 34
        }
      },
      "source": [
        "g7_pop.values"
      ],
      "execution_count": 12,
      "outputs": [
        {
          "output_type": "execute_result",
          "data": {
            "text/plain": [
              "array([ 35.467,  63.951,  80.94 ,  60.655, 127.061,  64.511, 318.523])"
            ]
          },
          "metadata": {
            "tags": []
          },
          "execution_count": 12
        }
      ]
    },
    {
      "cell_type": "code",
      "metadata": {
        "id": "qhhryc-ByHHg",
        "outputId": "11091e3e-03ff-470e-b583-a9e0a5757446",
        "colab": {
          "base_uri": "https://localhost:8080/",
          "height": 34
        }
      },
      "source": [
        "type(g7_pop.values)"
      ],
      "execution_count": 13,
      "outputs": [
        {
          "output_type": "execute_result",
          "data": {
            "text/plain": [
              "numpy.ndarray"
            ]
          },
          "metadata": {
            "tags": []
          },
          "execution_count": 13
        }
      ]
    },
    {
      "cell_type": "code",
      "metadata": {
        "id": "mw3g4ql5yRVP",
        "outputId": "b00a0a88-da90-4abb-f109-8a12f04555b0",
        "colab": {
          "base_uri": "https://localhost:8080/",
          "height": 34
        }
      },
      "source": [
        "g7_pop[1]"
      ],
      "execution_count": 15,
      "outputs": [
        {
          "output_type": "execute_result",
          "data": {
            "text/plain": [
              "63.951"
            ]
          },
          "metadata": {
            "tags": []
          },
          "execution_count": 15
        }
      ]
    },
    {
      "cell_type": "code",
      "metadata": {
        "id": "qM86Uw2TzHOy",
        "outputId": "a846d60c-9fe5-4aac-f633-9ba0661ecf9f",
        "colab": {
          "base_uri": "https://localhost:8080/",
          "height": 34
        }
      },
      "source": [
        "g7_pop.index"
      ],
      "execution_count": 16,
      "outputs": [
        {
          "output_type": "execute_result",
          "data": {
            "text/plain": [
              "RangeIndex(start=0, stop=7, step=1)"
            ]
          },
          "metadata": {
            "tags": []
          },
          "execution_count": 16
        }
      ]
    },
    {
      "cell_type": "code",
      "metadata": {
        "id": "2r7ZWV1uyVIR",
        "outputId": "4d67d4c9-bcc8-48e9-b19f-26462d6f762b",
        "colab": {
          "base_uri": "https://localhost:8080/",
          "height": 68
        }
      },
      "source": [
        "g7_pop.index = [\n",
        "                \"Canada\",\n",
        "                \"France\",\n",
        "                \"Germany\",\n",
        "                \"Italy\",\n",
        "                \"Japan\",\n",
        "                \"United Kindom\",\n",
        "                \"United States\"\n",
        "]\n",
        "g7_pop.index"
      ],
      "execution_count": 17,
      "outputs": [
        {
          "output_type": "execute_result",
          "data": {
            "text/plain": [
              "Index(['Canada', 'France', 'Germany', 'Italy', 'Japan', 'United Kindom',\n",
              "       'United States'],\n",
              "      dtype='object')"
            ]
          },
          "metadata": {
            "tags": []
          },
          "execution_count": 17
        }
      ]
    },
    {
      "cell_type": "code",
      "metadata": {
        "id": "UdLKChbCzTe7",
        "outputId": "b12cf90a-0812-44d1-ff4c-60cfbef0078c",
        "colab": {
          "base_uri": "https://localhost:8080/",
          "height": 153
        }
      },
      "source": [
        "g7_pop"
      ],
      "execution_count": 18,
      "outputs": [
        {
          "output_type": "execute_result",
          "data": {
            "text/plain": [
              "Canada            35.467\n",
              "France            63.951\n",
              "Germany           80.940\n",
              "Italy             60.655\n",
              "Japan            127.061\n",
              "United Kindom     64.511\n",
              "United States    318.523\n",
              "Name: G7 population in millions, dtype: float64"
            ]
          },
          "metadata": {
            "tags": []
          },
          "execution_count": 18
        }
      ]
    }
  ]
}