{
  "nbformat": 4,
  "nbformat_minor": 0,
  "metadata": {
    "colab": {
      "name": "Numpy.ipynb",
      "provenance": [],
      "collapsed_sections": [],
      "toc_visible": true,
      "authorship_tag": "ABX9TyPHRCGdqP+te17GrUbHs2fA",
      "include_colab_link": true
    },
    "kernelspec": {
      "name": "python3",
      "display_name": "Python 3"
    }
  },
  "cells": [
    {
      "cell_type": "markdown",
      "metadata": {
        "id": "view-in-github",
        "colab_type": "text"
      },
      "source": [
        "<a href=\"https://colab.research.google.com/github/KevinYuen/PythonDataScienceLearning/blob/main/Numpy.ipynb\" target=\"_parent\"><img src=\"https://colab.research.google.com/assets/colab-badge.svg\" alt=\"Open In Colab\"/></a>"
      ]
    },
    {
      "cell_type": "markdown",
      "metadata": {
        "id": "fH_eM8sbd5go"
      },
      "source": [
        "## Basic Numpy Arrays"
      ]
    },
    {
      "cell_type": "code",
      "metadata": {
        "id": "6IhjbnMWd4sg",
        "outputId": "3436fe1a-0cf0-4c6f-c97f-8c6115bd69e9",
        "colab": {
          "base_uri": "https://localhost:8080/",
          "height": 153
        }
      },
      "source": [
        "import sys\n",
        "import numpy as np\n",
        "\n",
        "a = np.array([1,2,3,4])\n",
        "print(a.dtype)\n",
        "\n",
        "a = np.array([1,2,3,4], dtype=np.int8)\n",
        "print(a.dtype)\n",
        "\n",
        "A = np.array([\n",
        "              [1,2,3],\n",
        "              [4,5,6],\n",
        "              [7,8,9]\n",
        "], dtype=np.int8)\n",
        "\n",
        "print(A)\n",
        "print(A[:, :2])\n"
      ],
      "execution_count": 1,
      "outputs": [
        {
          "output_type": "stream",
          "text": [
            "int64\n",
            "int8\n",
            "[[1 2 3]\n",
            " [4 5 6]\n",
            " [7 8 9]]\n",
            "[[1 2]\n",
            " [4 5]\n",
            " [7 8]]\n"
          ],
          "name": "stdout"
        }
      ]
    },
    {
      "cell_type": "markdown",
      "metadata": {
        "id": "quTBlhPTuozQ"
      },
      "source": [
        "# Instruction of Panda\n"
      ]
    },
    {
      "cell_type": "code",
      "metadata": {
        "id": "uYYnglSuu1Ik",
        "outputId": "9470da05-a907-4630-9817-2d4649c0dd32",
        "colab": {
          "base_uri": "https://localhost:8080/",
          "height": 221
        }
      },
      "source": [
        "import pandas as pd\n",
        "import numpy as np\n",
        "\n",
        "g7_pop = pd.Series([35.467, 63.951, 80.940, 60.655, 127.061, 64.511, 318.523])\n",
        "g7_pop.name = \"G7 population in millions\"\n",
        "print(g7_pop)\n",
        "print(g7_pop.dtype)\n",
        "print(g7_pop.name)\n",
        "print(g7_pop.values)\n",
        "print(type(g7_pop.values))"
      ],
      "execution_count": 9,
      "outputs": [
        {
          "output_type": "stream",
          "text": [
            "0     35.467\n",
            "1     63.951\n",
            "2     80.940\n",
            "3     60.655\n",
            "4    127.061\n",
            "5     64.511\n",
            "6    318.523\n",
            "Name: G7 population in millions, dtype: float64\n",
            "float64\n",
            "G7 population in millions\n",
            "[ 35.467  63.951  80.94   60.655 127.061  64.511 318.523]\n",
            "<class 'numpy.ndarray'>\n"
          ],
          "name": "stdout"
        }
      ]
    }
  ]
}